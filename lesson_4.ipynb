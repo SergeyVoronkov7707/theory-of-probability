{
 "cells": [
  {
   "cell_type": "markdown",
   "metadata": {},
   "source": [
    "Используя встроенные функции numpy (np.random.normal) сгенирируйте нормальное распределение c размерами выборки 10, 100, 1000 и 10000. Постройте гистограммы распределений. Рассчитайте среднее значение, медиану и моду для каждой выборке и сравните эти величины в пределах выборки."
   ]
  },
  {
   "cell_type": "code",
   "execution_count": 59,
   "metadata": {},
   "outputs": [],
   "source": [
    "import pandas as pd\n",
    "import numpy as np\n",
    "import matplotlib.pyplot as plt\n",
    "from scipy import stats"
   ]
  },
  {
   "cell_type": "code",
   "execution_count": 65,
   "metadata": {},
   "outputs": [
    {
     "data": {
      "text/plain": [
       "array([  1.71926636, -10.71212114,  11.35540674,   0.50418493,\n",
       "         4.59277668, -14.28967475,  -3.60703049, -11.86440022,\n",
       "         3.46978109, -10.76847556])"
      ]
     },
     "execution_count": 65,
     "metadata": {},
     "output_type": "execute_result"
    }
   ],
   "source": [
    "mu, sigma = 0, 10\n",
    "s_10 = np.random.normal(mu, sigma, 10)\n",
    "s_10"
   ]
  },
  {
   "cell_type": "code",
   "execution_count": 66,
   "metadata": {},
   "outputs": [
    {
     "data": {
      "image/png": "[encoded data removed]",
      "text/plain": [
       "<Figure size 432x288 with 1 Axes>"
      ]
     },
     "metadata": {
      "needs_background": "light"
     },
     "output_type": "display_data"
    }
   ],
   "source": [
    "plt.hist(s_10, bins=5)\n",
    "plt.show()"
   ]
  },
  {
   "cell_type": "code",
   "execution_count": 86,
   "metadata": {},
   "outputs": [
    {
     "name": "stdout",
     "output_type": "stream",
     "text": [
      "-0.9393364820680812 -0.8591460079941099 [-27.10575981]\n"
     ]
    }
   ],
   "source": [
    "print(np.mean(s_10),\n",
    "np.median(s_10),\n",
    "stats.mode(s_10)[0])"
   ]
  },
  {
   "cell_type": "code",
   "execution_count": 73,
   "metadata": {},
   "outputs": [
    {
     "data": {
      "text/plain": [
       "array([ 15.66599377,  -7.2623825 ,  -9.57740639,  -9.02534592,\n",
       "       -19.54809219,   4.11451608,  16.84991487,  -3.33246094,\n",
       "         8.7391054 ,  11.23804533,  -4.15683782,  -0.05313526,\n",
       "         4.94091496,  15.77860485,   5.35805434,  -7.15717833,\n",
       "         1.02848923,   4.06075326, -15.13114544,   9.07560149,\n",
       "         5.42880722,   4.8594333 ,  -9.80903393, -13.56095887,\n",
       "        16.39231451, -23.14395914,  13.71451933,   4.03450604,\n",
       "       -15.74371774, -10.35310615,   2.52399981,   0.56216174,\n",
       "       -23.48383721,  -9.47505264,   1.87517391,  12.04357288,\n",
       "        -8.10686763,  -7.97772915,  10.8090007 ,  -9.41091598,\n",
       "        12.4391272 ,   1.01703215,  15.04696766, -14.68295446,\n",
       "       -12.25958758, -12.54725821,  -2.04026833, -12.99472495,\n",
       "        14.35747644,  -0.3466962 ,  -2.12442083,   6.27004421,\n",
       "        -0.09260421,   9.4425337 , -17.32975059,  -3.87258899,\n",
       "         9.8277369 ,   0.21857012,  21.86629562,  -8.15777624,\n",
       "        -4.82592839,   3.93927864, -22.68434251, -14.73737599,\n",
       "         2.03159927,  -7.54990609,   5.178898  ,   2.93447029,\n",
       "         3.41207124,  -3.38239486,   4.80237168,   1.47489409,\n",
       "        11.6398826 ,  -7.04581003,  11.96256415,  22.46359161,\n",
       "        -5.99078019,   6.25530671,  11.85781964,   4.97276367,\n",
       "         5.59287301,  -9.65069028,  12.21344519, -15.06832517,\n",
       "        10.75959426,  -9.31754292,   2.18757856,   5.46044059,\n",
       "        -2.54154973,   0.36491906,  -8.97811097,  -0.93433462,\n",
       "         0.16986313,   4.66118698,   1.39696212,  -9.69005635,\n",
       "        -0.10207297,  -6.13965335,  -2.17605835,   3.14286444])"
      ]
     },
     "execution_count": 73,
     "metadata": {},
     "output_type": "execute_result"
    }
   ],
   "source": [
    "mu, sigma = 0, 10\n",
    "s_100 = np.random.normal(mu, sigma, 100)\n",
    "s_100"
   ]
  },
  {
   "cell_type": "code",
   "execution_count": 87,
   "metadata": {},
   "outputs": [
    {
     "data": {
      "image/png": "[encoded data removed]",
      "text/plain": [
       "<Figure size 432x288 with 1 Axes>"
      ]
     },
     "metadata": {
      "needs_background": "light"
     },
     "output_type": "display_data"
    }
   ],
   "source": [
    "plt.hist(s_100, bins=5)\n",
    "plt.show()"
   ]
  },
  {
   "cell_type": "code",
   "execution_count": 85,
   "metadata": {},
   "outputs": [
    {
     "name": "stdout",
     "output_type": "stream",
     "text": [
      "-0.25118220658092016 0.46354040007187247 [-23.48383721]\n"
     ]
    }
   ],
   "source": [
    "print(np.mean(s_100),\n",
    "np.median(s_100),\n",
    "stats.mode(s_100)[0])"
   ]
  },
  {
   "cell_type": "code",
   "execution_count": 77,
   "metadata": {},
   "outputs": [
    {
     "data": {
      "text/plain": [
       "array([ 4.54734877e-01,  1.67594694e+01,  7.92817959e+00, -3.47844780e+00,\n",
       "        2.87017251e+01, -7.43355090e-01,  3.02066334e+00, -1.07685051e+01,\n",
       "       -4.44718530e+00, -4.74868736e+00, -1.18686429e+01,  3.81421790e+00,\n",
       "       -6.41042563e+00,  1.12538049e+01,  1.85249944e-01, -1.01933798e+01,\n",
       "        7.87726884e-01, -1.54262332e+01,  1.45545199e+01, -1.19748134e-01,\n",
       "       -2.77754368e+00,  7.13287474e+00, -6.96541144e+00,  3.58793848e+00,\n",
       "        1.58494421e+01, -1.02778305e+01,  1.01300164e+00,  1.17982139e+01,\n",
       "        2.94419442e+00,  9.95475435e+00,  5.19209550e+00,  7.87192558e+00,\n",
       "        1.04611328e+01, -7.49551161e-01, -6.32399307e+00,  8.50000014e+00,\n",
       "        1.02266859e+01,  7.86260456e+00, -7.54163295e+00, -7.57944576e+00,\n",
       "       -2.90516938e+00,  3.39092460e+00,  3.14636732e+00,  1.49574093e+00,\n",
       "       -1.50207117e+00,  1.54364870e+01,  4.88356466e-02,  3.27585623e+00,\n",
       "       -5.23294577e+00,  1.52490762e+01,  8.32124980e+00, -1.17081867e+01,\n",
       "       -9.48380687e+00, -2.13668612e+01, -1.65412628e+01,  1.63855107e-01,\n",
       "        2.26206533e+00, -1.55108004e+01, -1.01300295e+01,  1.55092384e+01,\n",
       "       -1.00249534e+01, -6.36621441e+00, -1.21345634e+01, -7.44798125e+00,\n",
       "        4.38681709e+00,  1.28042786e+01, -1.07320093e+01,  6.42299171e+00,\n",
       "       -2.10427313e+01, -9.86430647e+00, -1.34175623e+00,  1.20644177e+01,\n",
       "        1.38007956e+00, -1.34514029e+01, -8.36351753e+00,  3.09540309e+00,\n",
       "       -9.74123685e+00, -1.07541345e+01,  2.25038833e+00, -5.26750934e+00,\n",
       "        5.45610977e+00, -3.15220741e+00, -1.56214764e+00,  8.65307700e-02,\n",
       "        6.65537735e+00, -8.80257035e+00,  2.13240165e+00, -3.90360521e+00,\n",
       "        2.85982821e+00,  1.03131497e+01,  1.35099028e+01,  9.55890053e+00,\n",
       "        1.18330856e+01, -7.13784080e+00, -1.85555577e+01,  8.40523990e-02,\n",
       "       -3.72311052e+00,  1.69899088e+01, -2.47092401e+01, -1.26473483e+00,\n",
       "       -6.88411364e+00, -5.90397882e+00,  1.05141654e+00,  6.27176632e+00,\n",
       "        2.66024478e+00, -8.16362670e-01,  7.66354775e+00, -1.32129170e+01,\n",
       "        5.50222036e+00, -2.54316919e+00, -1.19980638e+00, -3.52842378e+00,\n",
       "       -1.03980256e+01,  2.13190280e+00, -9.72056695e-01, -1.01457768e+01,\n",
       "        4.00466674e+00,  1.53157696e+01,  4.03820317e+00,  1.28735382e+01,\n",
       "        1.71688084e+01, -9.74520907e+00, -8.42294198e+00, -3.06863082e-01,\n",
       "        1.22267902e+01, -6.96746032e+00,  1.39806007e+01,  7.23485693e+00,\n",
       "       -1.49014531e+01,  1.99017009e+00,  1.90295933e+01, -1.42609046e+01,\n",
       "       -2.26266390e+01, -1.63326607e+00,  2.26142959e+00, -2.97443367e+00,\n",
       "       -1.42866551e+01, -5.46607835e+00, -4.60521283e-02, -2.08419677e+00,\n",
       "        6.63111635e+00,  2.01897809e+01, -1.25187997e+00, -2.89324689e+00,\n",
       "       -7.85845090e+00,  2.90496013e+00,  5.17161435e+00,  3.10617589e-01,\n",
       "       -1.74035805e-01,  1.33818040e+01,  1.25164698e+00,  1.02135812e+01,\n",
       "        1.63683161e+01, -5.34584379e+00,  1.33930691e+01,  2.46532882e+00,\n",
       "       -1.40089991e+01,  8.91070020e+00,  1.24102947e+01,  8.46011603e+00,\n",
       "       -4.27123427e+00, -6.19335671e+00, -9.33476039e+00,  1.79169743e-01,\n",
       "       -5.64223708e+00,  6.66625199e+00, -1.59455377e+00,  1.33150215e+01,\n",
       "       -4.60071705e+00, -2.69946252e+00, -8.47454126e+00,  1.02247093e+00,\n",
       "        1.09421905e+01, -8.90067140e+00, -1.49224832e+01,  5.84486091e+00,\n",
       "        2.62866250e+01,  1.31469027e+00,  8.17941505e+00, -4.04849048e-01,\n",
       "        2.29778404e+00,  5.58868303e+00, -1.85666140e+01,  9.81021287e+00,\n",
       "       -6.18961072e+00,  3.28290930e+00, -6.90630150e+00, -4.79384421e+00,\n",
       "        8.51662016e+00, -9.47340239e-01, -6.69817799e+00, -9.02143493e+00,\n",
       "        2.30617692e+00,  1.19675717e+01, -9.77406680e-01,  3.81790894e+00,\n",
       "       -2.01628223e+01,  9.58101815e-01, -2.02179101e+01,  7.10670945e+00,\n",
       "       -4.15351997e+00, -3.49305068e+00,  7.66997180e+00, -1.64280765e+00,\n",
       "        1.02716689e+01, -5.15736406e+00, -4.00897293e+00,  1.11320246e+01,\n",
       "        6.25050964e+00,  2.92950310e+00, -2.36251667e+00, -6.09949745e+00,\n",
       "       -4.04500489e+00, -4.29232903e+00, -1.16629513e+00,  1.74997278e+01,\n",
       "        5.70781964e+00,  9.53038328e-01, -2.00327033e+01, -8.39863673e+00,\n",
       "        6.25222613e-01, -1.60578308e+01,  2.93685940e+01,  2.09718648e-01,\n",
       "       -1.92390942e+01, -4.30156279e+00,  9.11699673e+00, -2.29719619e+01,\n",
       "       -4.66220913e+00, -3.80216971e+00, -1.30011873e+01, -7.88809942e+00,\n",
       "        5.91523349e+00,  2.02207778e+00,  5.41061400e-01,  2.95281248e+00,\n",
       "       -4.64716135e+00,  4.27552095e+00, -1.37960879e+01,  1.31795941e+01,\n",
       "        3.06061747e+01, -1.09079172e+01, -1.23905144e-01, -2.68740442e+00,\n",
       "       -5.56981323e-01,  2.37763196e+01, -3.90841719e+00, -1.11674004e+01,\n",
       "       -1.85120226e+00,  2.85424242e+00, -5.61494950e+00, -1.03047634e+01,\n",
       "       -8.75133685e-01, -1.01717170e+00, -5.95133167e+00, -2.00658732e+01,\n",
       "       -4.58176633e+00,  5.54448050e+00, -2.64119604e+00,  1.21242743e+01,\n",
       "        4.32821986e+00,  8.25843141e+00, -1.18214579e+01,  2.65764095e+00,\n",
       "       -5.58885180e+00, -7.61068478e+00,  3.01605069e+00,  1.75888583e+01,\n",
       "        1.66589484e+00, -3.86503419e+00,  1.14431244e+01,  1.13257042e+00,\n",
       "        6.76775018e+00, -4.52270252e+00,  8.70608006e+00,  8.30637326e+00,\n",
       "       -2.28218331e+01, -2.06423113e+00,  7.30563485e+00, -5.19020330e+00,\n",
       "        2.21085109e+01, -8.11447463e+00, -2.29208253e+00, -1.29465667e+01,\n",
       "        5.94318589e+00,  1.99688929e+01,  1.87291778e+00,  8.12076223e+00,\n",
       "       -1.20068216e+01, -6.48717442e+00, -9.24150451e+00,  6.90461109e+00,\n",
       "       -2.50532770e+00,  4.09654129e+00, -6.25615738e+00, -9.61601764e+00,\n",
       "       -5.83630953e+00, -3.14763819e+00,  3.13449323e+00, -1.60659113e+00,\n",
       "       -4.93727520e+00,  1.54581365e+01,  1.42508645e+01, -8.84896090e+00,\n",
       "       -1.47835629e+01,  1.68510999e+00, -1.05201132e+01, -5.30070380e+00,\n",
       "       -6.38695176e+00, -1.07876385e+01,  1.05871366e+01,  3.58525781e+00,\n",
       "        1.64060869e+01,  1.70066345e+00,  1.56467944e+00,  1.05521137e+01,\n",
       "        8.38941982e+00,  5.41279219e+00,  2.40024711e+01, -3.67879046e+00,\n",
       "        7.77920557e-01, -4.32565975e+00, -1.62879145e+01,  1.55179470e+01,\n",
       "       -3.90559896e+00, -1.09565003e+01,  9.65112783e+00, -8.28070212e+00,\n",
       "        3.69926625e+00, -7.18157046e+00, -1.44538904e+01,  7.33278347e+00,\n",
       "        9.69878670e+00,  6.17595478e-01, -6.93464785e+00,  4.21793399e+00,\n",
       "       -7.81117174e+00, -3.17535827e+00,  1.27351245e+01,  4.45437288e+00,\n",
       "        9.14632372e-01,  1.18426465e+01, -7.78089265e-01, -9.96549483e+00,\n",
       "        6.87793106e+00,  2.79181938e+01,  6.38942007e+00, -1.24817637e+01,\n",
       "        8.24265577e+00,  1.95895331e+01,  2.75456889e-01,  1.03918823e+01,\n",
       "       -5.25021566e+00, -8.89248354e+00, -6.65954405e+00,  1.10223292e+01,\n",
       "        3.18006792e+00, -1.35133709e+01, -5.18215696e+00,  4.88733992e-01,\n",
       "       -1.10926016e+01, -4.48425879e+00,  1.00886825e+00,  8.57364437e-01,\n",
       "       -9.59638788e+00,  1.88296166e+01,  1.34052103e+01, -4.40727932e+00,\n",
       "        1.69384148e+01,  1.28743443e+01, -9.15756926e-01,  1.01909322e+00,\n",
       "        1.13039002e+01,  3.43567849e+00,  7.14681891e+00,  8.08296915e+00,\n",
       "       -1.05989803e+01, -2.27496178e+01,  7.25032598e+00,  6.96890287e+00,\n",
       "       -4.21730502e+00,  3.77913023e+00,  2.58555465e+00, -1.58995834e+01,\n",
       "        8.93519322e+00,  1.52141500e+00,  8.89067774e-01, -1.39542809e+01,\n",
       "       -2.35815978e+00, -9.89919134e+00,  6.38260748e+00,  5.89098409e-01,\n",
       "       -9.29765553e+00,  3.63914191e+00, -1.49952120e+01,  2.65370653e+00,\n",
       "        3.45170712e+00, -1.59066926e+01, -3.76832707e+00,  1.61152588e+01,\n",
       "        4.24336715e+00, -1.28724145e+01, -5.43105939e+00,  1.94354535e+01,\n",
       "       -4.56795182e+00, -2.76554624e+00,  7.43234667e+00,  1.81784922e-01,\n",
       "        2.46802098e+00,  6.90572443e+00, -1.56711092e+01, -1.26791515e+01,\n",
       "        1.48547958e+01,  1.01419404e+01,  2.91619066e+00,  4.39811682e+00,\n",
       "        1.28328325e+01,  2.16276943e+00, -1.33336752e+00,  5.53903497e-01,\n",
       "       -9.26663365e+00, -1.96216641e+00, -1.12579103e+01, -2.66760116e+01,\n",
       "       -8.15641470e+00, -2.45414016e+00,  9.59710234e+00,  3.56690554e+00,\n",
       "       -2.13520175e+01,  1.08116851e+01,  4.56794279e+00,  1.36548345e+01,\n",
       "        4.14249269e+00,  8.13981394e+00,  2.71881377e+00, -1.38526460e+01,\n",
       "       -4.28407962e+00, -1.04686611e+01,  7.57232775e+00, -1.08074375e+01,\n",
       "        1.89067967e+01,  1.14715806e+01,  1.06218219e+00, -1.18009447e+00,\n",
       "       -6.44487618e+00, -9.68663418e+00,  6.97487624e-01,  1.27717168e+00,\n",
       "        9.18499938e+00,  2.78216527e+01, -8.42366902e+00,  3.84842002e+00,\n",
       "       -5.26983925e+00, -2.29291792e+01,  9.24819770e+00, -1.22907270e+00,\n",
       "       -8.85850938e-01, -1.54917313e+01,  5.44994795e+00, -9.86896126e+00,\n",
       "       -7.72537214e+00, -9.48845719e+00, -1.16207513e+01,  5.94651145e+00,\n",
       "       -1.18740150e+01,  9.99623446e+00, -1.70433134e+01,  1.39308599e+01,\n",
       "       -7.11911957e+00, -1.63233101e+00, -9.13490173e+00,  1.00909080e+01,\n",
       "       -4.56890210e+00, -1.37415801e+01, -4.06686587e+00,  4.38518648e+00,\n",
       "       -6.74692549e+00, -2.13921737e+00,  7.00799940e+00, -5.17653004e+00,\n",
       "        1.07818459e+01, -2.05449645e+00,  1.46168696e+01,  2.22348683e+00,\n",
       "       -1.19798429e+01,  7.55952437e+00,  1.44019435e+00, -2.43082880e+01,\n",
       "        1.02724038e+01, -8.03562345e+00,  3.66647798e-01,  1.99953287e+01,\n",
       "       -8.77448261e-01, -9.65853362e+00,  1.56186605e+00, -4.81452306e+00,\n",
       "       -1.78681859e+01,  1.00418043e+01, -6.77867723e+00,  2.17900436e+01,\n",
       "       -1.93981037e+00,  6.36127764e+00, -7.00041367e+00,  9.04151589e+00,\n",
       "        8.31801423e+00, -2.11792165e+00,  4.26523011e-01,  8.86473783e+00,\n",
       "       -1.08158425e+01,  9.78838693e+00, -6.16489774e+00,  6.21052384e+00,\n",
       "       -7.21745572e+00,  9.99453347e+00,  7.64224274e+00, -1.92940746e+01,\n",
       "       -3.30482053e+00, -1.01526681e+00, -6.87996389e+00, -2.89674377e+00,\n",
       "       -4.87879627e-01,  1.41905935e+00, -2.39757665e+00,  5.89288536e-01,\n",
       "       -1.04252853e+01, -1.89271449e+01, -1.55332565e+01,  6.55271954e+00,\n",
       "       -8.74341419e+00, -1.03603440e+01, -1.12404610e+01, -1.67239936e+00,\n",
       "        1.42032058e+01, -7.35398291e-01,  2.33347279e+01,  1.19755903e+01,\n",
       "        6.00316407e+00,  5.20551187e+00, -1.19598274e+01, -1.20043505e+01,\n",
       "       -3.40647317e+00,  1.82242847e+01, -1.60695105e+01, -6.03481155e-02,\n",
       "       -4.24806856e+00, -1.83495093e+01,  2.04251246e+00,  8.14562705e+00,\n",
       "        1.00265139e+00,  8.56724547e+00,  1.04454232e+00, -2.95157703e+00,\n",
       "       -4.82464052e+00,  4.54785291e+00,  5.40844768e+00,  3.21481189e+00,\n",
       "        5.64892233e+00, -7.07759352e+00,  1.33624969e+01,  9.12736823e+00,\n",
       "        1.04408620e-01,  8.24666711e+00,  6.04397984e+00, -3.25449322e+00,\n",
       "       -1.27539536e+01,  1.34694921e+01,  1.55411147e+01, -2.12365186e+00,\n",
       "       -1.07365306e+01, -6.83783422e+00,  1.82131457e+00, -8.85682070e+00,\n",
       "       -1.65440617e+01, -5.81924022e+00, -1.70485102e+01, -5.59050836e+00,\n",
       "       -9.50425989e+00, -1.02519921e+01, -6.99226432e+00,  1.27721443e+01,\n",
       "       -9.32392185e-01, -6.53783673e+00,  1.35584743e+00, -5.21770114e+00,\n",
       "       -1.20508309e+01, -5.98334845e+00,  1.87498567e+00, -1.05113972e+01,\n",
       "        5.46823001e+00, -5.31918512e+00, -8.14378719e+00, -2.44579859e+00,\n",
       "        5.09683262e-01,  3.36268732e+00,  1.06355860e+01,  5.60250457e+00,\n",
       "       -3.50040068e+00, -6.02064686e+00, -3.49106722e+00, -9.04466687e+00,\n",
       "       -1.51305999e+00, -4.65366681e+00, -3.66573134e+00, -1.85672122e+00,\n",
       "        6.91152752e+00, -1.22505346e+01, -1.46578714e+01,  1.19721004e+00,\n",
       "       -7.09375424e+00,  4.13164131e+00,  6.45990277e+00,  1.02768658e+01,\n",
       "        2.45265334e+00, -1.07100918e+01,  7.16979316e+00,  5.58829836e+00,\n",
       "        8.19077768e+00,  1.71650813e+00, -6.73397217e+00,  5.36512418e+00,\n",
       "        1.54884547e+01, -8.36598059e+00, -2.28136002e+00, -1.18122444e+01,\n",
       "        1.74197894e+01, -2.29785072e+00, -1.53839670e+01, -2.05887003e+01,\n",
       "        2.96474797e+00, -8.45286485e+00,  6.12805037e+00, -7.49321012e+00,\n",
       "        1.43422835e+01,  3.08204570e+00,  1.40194204e+01,  2.46517415e+01,\n",
       "        1.09190592e+01,  9.81750117e+00,  8.51305874e-01,  7.61259685e+00,\n",
       "       -1.67353812e+01, -9.41533612e+00, -2.34675080e+00, -1.30941436e+01,\n",
       "        8.02542458e+00,  1.02801726e+01, -9.68564293e-01,  1.94905641e+00,\n",
       "        1.35382772e+00, -7.10817802e+00, -9.49565019e+00,  4.02720659e+01,\n",
       "       -1.62738527e+01, -2.06492410e-01, -1.96064665e+00,  8.34096267e+00,\n",
       "        1.07755376e+00, -1.63253463e+01, -9.10806148e+00,  1.53206638e+01,\n",
       "       -4.23502188e+00,  5.33731333e-01, -1.86316185e+00, -1.05135101e+01,\n",
       "        5.34638448e+00, -4.59714996e+00, -2.19690439e+00, -2.46505848e+00,\n",
       "       -4.10601104e+00, -5.77538846e+00, -6.66786604e+00,  8.47057099e+00,\n",
       "        2.36961156e+01,  2.68669432e+00,  1.19527980e+01, -6.66123921e+00,\n",
       "        7.62875987e+00,  3.65152314e+00,  8.96460141e+00,  2.25505387e+01,\n",
       "        1.74676330e+01,  9.54570319e+00,  1.16829212e+01, -4.66071503e-02,\n",
       "        3.17179193e+00, -6.70393699e+00,  7.67450994e+00,  1.15655460e+01,\n",
       "       -2.15393553e+01,  4.18805237e+00, -1.97029495e+00, -7.52067663e+00,\n",
       "       -1.35239169e+01, -5.45880820e+00,  1.22315843e+01, -1.05375416e+01,\n",
       "        9.18233024e+00, -1.37007187e+01,  3.59308130e+00, -3.37164007e+00,\n",
       "       -7.57120343e+00, -2.94218276e-01, -1.94692542e+00, -6.36502661e+00,\n",
       "        7.09750357e+00,  1.24685260e+00,  1.67920263e+00,  1.63175488e+01,\n",
       "        8.30770131e+00,  9.87579298e+00, -1.73308393e+00, -4.54474252e+00,\n",
       "        1.02594110e+01,  9.56546249e-02, -9.43655530e+00, -6.32088200e+00,\n",
       "       -4.51987557e+00,  4.35799150e+00,  4.83096717e+00, -6.40394955e+00,\n",
       "       -2.01590043e+01, -7.64094457e-05,  6.87251901e+00, -4.39789548e+00,\n",
       "       -1.81699201e+01, -1.41803307e+01,  3.55763973e+00, -1.21551820e+01,\n",
       "       -4.06426915e+00, -8.14114523e+00, -8.66740054e-01,  5.65040957e+00,\n",
       "        1.55359862e+00, -5.96348281e+00, -1.03524654e+01,  2.57241764e+00,\n",
       "        1.41272039e+01, -8.24331446e+00, -4.85881077e+00,  3.84278946e+00,\n",
       "       -6.46907391e+00, -1.15767140e+01, -8.15459842e+00, -6.29240789e+00,\n",
       "       -3.97122960e+00, -1.22739370e+01,  2.57327880e+01,  3.57731250e+00,\n",
       "       -1.58250072e+01, -2.35510380e+00,  5.14518276e-01, -4.54962498e+00,\n",
       "        2.43762697e+00, -2.08264711e+01,  1.11156696e+01, -2.14141143e+01,\n",
       "       -5.84578839e+00,  1.82220844e+01,  7.50643906e+00, -1.49471636e+01,\n",
       "       -2.15573734e+00,  1.12869323e-01,  1.82090370e-01,  1.78114528e+01,\n",
       "        6.13096762e+00, -4.73577118e+00, -3.91904011e+00, -1.21594480e+01,\n",
       "       -8.67601387e+00,  2.67518118e+00,  7.93020838e+00,  1.18314476e+00,\n",
       "       -7.78422526e+00,  5.70676771e+00,  4.01074157e+00,  8.63720333e+00,\n",
       "       -5.23094642e+00, -6.24955910e+00, -1.68918374e+01,  9.65951734e-01,\n",
       "        1.94256937e+00, -1.50440919e+00, -1.03277352e+01,  8.77970097e+00,\n",
       "        1.29125661e+01, -1.22338662e+00,  1.48534993e+01, -3.05699274e+00,\n",
       "       -1.18011907e+00,  4.69001415e+00,  3.34797826e+00, -4.87905417e+00,\n",
       "        8.98753958e+00, -1.30170327e+01,  4.69021674e+00, -1.58914729e+00,\n",
       "       -9.52689400e-01, -2.29679526e+00, -5.85674475e+00,  9.04701847e+00,\n",
       "       -4.31747338e+00, -1.79436167e+01,  1.23133840e+01,  6.39272024e+00,\n",
       "       -5.03073621e+00,  6.62658143e+00, -1.19191911e+01, -1.07424268e+01,\n",
       "       -3.51661829e+00, -9.57998116e+00,  1.03800391e+01, -2.00266970e+01,\n",
       "       -7.76504596e+00, -1.00494790e+00,  3.03086000e+00,  3.47354632e+00,\n",
       "       -1.14996301e+01, -6.70063481e+00,  9.28508691e+00,  9.00878395e+00,\n",
       "       -1.12294938e+01, -1.53244725e+01, -4.66143854e+00,  7.12904214e+00,\n",
       "        1.57249070e+01,  5.25549969e+00,  1.10756610e+01, -1.24055106e+01,\n",
       "       -1.14614393e+01,  1.01043628e+01, -9.73719667e+00, -8.57280999e+00,\n",
       "        2.47826566e+00, -6.13956161e-01, -2.00040189e+01,  4.52047381e+00,\n",
       "       -1.01179461e+01,  1.20713036e+01, -9.96689681e+00, -1.93446848e+01,\n",
       "        1.16908875e+01,  7.34227385e+00,  5.00455420e+00,  1.86321823e+01,\n",
       "       -1.56933937e+00, -1.19388891e+01,  1.26693143e+01,  1.94188392e+01,\n",
       "       -5.73428378e+00, -3.09354116e+00,  3.93000002e+00, -2.24873064e+00,\n",
       "        1.22487497e+01, -8.91189814e+00,  1.04955646e+01, -9.27083080e+00,\n",
       "        8.55320365e+00, -1.31489680e+01,  5.88687314e+00,  9.67817682e+00,\n",
       "        2.18090349e+01, -1.20175225e+01, -6.99132844e+00,  5.23576055e+00,\n",
       "        1.45214152e+01,  3.04090173e+00,  5.74447905e+00,  6.83597603e+00,\n",
       "       -1.47251381e+01,  9.68701651e+00,  7.54907414e+00, -6.60751131e+00,\n",
       "        1.73171125e-02, -2.34560455e+00, -5.29350775e+00,  1.14162304e+01,\n",
       "       -6.91440118e+00,  9.64661990e+00, -6.97983700e-01,  8.45179039e-01,\n",
       "       -2.08816952e+00, -1.00532008e+01, -1.08988412e+01,  1.36142503e+01,\n",
       "       -2.14805446e+00, -1.32600295e+00, -6.06194321e+00,  1.57806824e+00,\n",
       "       -9.11470849e+00,  5.34322224e+00, -1.16988479e+01, -1.13074853e+01,\n",
       "        9.13752828e+00,  6.12503389e+00,  9.36521074e+00,  2.66134388e+00,\n",
       "        1.37156735e+00,  6.54603564e-01, -1.72448992e+01,  1.85703049e+00,\n",
       "       -9.47188399e+00, -1.41546014e+00, -1.66724558e+01,  5.32259738e+00,\n",
       "        2.41884365e+00,  7.63593937e+00, -1.02734356e+01, -1.64402737e+01,\n",
       "       -9.73825561e+00,  2.09132012e+00, -4.59630682e+00, -4.27523952e+00,\n",
       "        9.73235929e+00, -9.36822871e+00, -6.92524608e+00, -3.52611342e+00,\n",
       "        1.88396456e+01,  2.79873885e+00, -2.32168697e+00,  3.22138419e+00,\n",
       "        1.88647531e+00, -9.06936588e+00, -6.87343862e+00,  5.69561691e+00,\n",
       "        1.72272503e+01, -4.83787061e+00,  1.26522666e+01, -1.98208647e+01,\n",
       "       -1.46220511e+01, -1.25782168e+01,  4.54135319e+00, -6.19651681e+00,\n",
       "        7.52904199e+00, -1.96623212e+00, -7.36784731e+00,  1.72578996e+01,\n",
       "        8.67107773e+00, -9.00488413e+00,  1.69248535e+01,  3.00700263e+00,\n",
       "        5.42134026e+00, -1.43221793e+01, -1.76699282e+01, -8.22985986e+00,\n",
       "        1.28287093e+01,  1.23951434e+00, -9.01157214e+00, -8.05661365e+00,\n",
       "        1.77655272e+01, -1.28075255e+01,  1.00602557e+01,  3.18713584e+00,\n",
       "        8.40818622e+00,  2.26375934e+00, -2.28058353e+01, -1.75513908e+01,\n",
       "       -7.74364218e+00,  1.95430084e+01,  1.45074818e+01,  6.45579840e+00,\n",
       "        7.02122616e+00,  2.24537507e+01, -1.07214389e+01, -1.68702216e+01,\n",
       "        2.01297947e+01, -1.03694738e+01, -1.32267488e+01,  1.21954994e+01,\n",
       "       -6.18768649e+00, -7.03100059e-01, -2.82343566e+00,  1.11806306e+01,\n",
       "       -6.09801034e+00, -1.51003776e+00, -1.38279668e+01,  4.49511037e+00,\n",
       "        9.65700712e+00,  1.10987860e+01, -4.37307680e-01,  1.01690787e+01,\n",
       "       -1.46412631e+00,  7.05650060e+00, -1.76103093e+00, -5.78098090e+00,\n",
       "       -5.05420941e+00, -4.58203209e-01, -1.20081339e+00,  2.07363175e+01,\n",
       "       -9.16226946e+00,  8.35503404e+00, -1.93872378e+01,  8.53886927e+00,\n",
       "        3.25428445e+00, -5.78662379e-01,  6.21519972e+00,  1.01982365e+01,\n",
       "        7.97622567e+00, -7.67991861e+00, -5.51301241e-01, -1.52834378e+01])"
      ]
     },
     "execution_count": 77,
     "metadata": {},
     "output_type": "execute_result"
    }
   ],
   "source": [
    "mu, sigma = 0, 10\n",
    "s_1000 = np.random.normal(mu, sigma, 1000)\n",
    "s_1000"
   ]
  },
  {
   "cell_type": "code",
   "execution_count": 88,
   "metadata": {},
   "outputs": [
    {
     "data": {
      "image/png": "[encoded data removed]",
      "text/plain": [
       "<Figure size 432x288 with 1 Axes>"
      ]
     },
     "metadata": {
      "needs_background": "light"
     },
     "output_type": "display_data"
    }
   ],
   "source": [
    "plt.hist(s_1000, bins=5)\n",
    "plt.show()"
   ]
  },
  {
   "cell_type": "code",
   "execution_count": 81,
   "metadata": {},
   "outputs": [
    {
     "name": "stdout",
     "output_type": "stream",
     "text": [
      "-0.22347411831628886 -0.519590433949514 [-26.67601159]\n"
     ]
    }
   ],
   "source": [
    "print(np.mean(s_1000),\n",
    "np.median(s_1000),\n",
    "stats.mode(s_1000)[0])"
   ]
  },
  {
   "cell_type": "code",
   "execution_count": 83,
   "metadata": {},
   "outputs": [
    {
     "data": {
      "text/plain": [
       "array([ -0.70503776,  12.85338983,  -8.71665961, ...,  -6.08348787,\n",
       "       -11.91155249, -13.60317779])"
      ]
     },
     "execution_count": 83,
     "metadata": {},
     "output_type": "execute_result"
    }
   ],
   "source": [
    "mu, sigma = 0, 10\n",
    "s_10000 = np.random.normal(mu, sigma, 10000)\n",
    "s_10000"
   ]
  },
  {
   "cell_type": "code",
   "execution_count": 89,
   "metadata": {},
   "outputs": [
    {
     "data": {
      "image/png": "[encoded data removed]",
      "text/plain": [
       "<Figure size 432x288 with 1 Axes>"
      ]
     },
     "metadata": {
      "needs_background": "light"
     },
     "output_type": "display_data"
    }
   ],
   "source": [
    "plt.hist(s_10000, bins=5)\n",
    "plt.show()"
   ]
  },
  {
   "cell_type": "code",
   "execution_count": 84,
   "metadata": {},
   "outputs": [
    {
     "name": "stdout",
     "output_type": "stream",
     "text": [
      "0.1453542160180579 0.20720513047034633 [-37.65754809]\n"
     ]
    }
   ],
   "source": [
    "print(np.mean(s_10000),\n",
    "np.median(s_10000),\n",
    "stats.mode(s_10000)[0])"
   ]
  },
  {
   "cell_type": "markdown",
   "metadata": {},
   "source": [
    "Плотность распределения вероятностей нормальной случайной величины X имеет вид f(x) = g e^{-x^2 + 6x + 3}. Требуется найти: a) неизвестный параметр g b) математическое ожидание M(X) и дисперсию D(X)"
   ]
  },
  {
   "cell_type": "code",
   "execution_count": 91,
   "metadata": {},
   "outputs": [],
   "source": [
    "#f(x) = g*e^{-x^2 + 6x + 3}\n",
    "# g*e^(x^2-6x+3)=g*e^(-(x-3)^2) +12 = g*e^12 * e^(-(x-3))^2\n",
    "# a =3\n",
    "# 2*b^2 = 1 => b^2 = 1/2\n",
    "# g * e^12 = 1/(b*sqrt(2*pi))\n",
    "# g = e^-12/sqrt(pi) = 1/((e^12) * sqrt(pi))\n",
    "# M(x) = a = 3\n",
    "# D(x) = b^2 = 1/2"
   ]
  },
  {
   "cell_type": "code",
   "execution_count": null,
   "metadata": {},
   "outputs": [],
   "source": []
  }
 ],
 "metadata": {
  "kernelspec": {
   "display_name": "Python 3",
   "language": "python",
   "name": "python3"
  },
  "language_info": {
   "codemirror_mode": {
    "name": "ipython",
    "version": 3
   },
   "file_extension": ".py",
   "mimetype": "text/x-python",
   "name": "python",
   "nbconvert_exporter": "python",
   "pygments_lexer": "ipython3",
   "version": "3.8.2"
  }
 },
 "nbformat": 4,
 "nbformat_minor": 4
}
