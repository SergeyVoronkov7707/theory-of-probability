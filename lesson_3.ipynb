{
 "cells": [
  {
   "cell_type": "code",
   "execution_count": 106,
   "metadata": {},
   "outputs": [],
   "source": [
    "import numpy as np\n",
    "import pandas as pd\n",
    "import matplotlib.pyplot as plt\n",
    "import warnings\n",
    "import seaborn as sns\n",
    "warnings.filterwarnings('ignore')"
   ]
  },
  {
   "cell_type": "code",
   "execution_count": 107,
   "metadata": {},
   "outputs": [],
   "source": [
    "df = pd.read_csv('global_power_plant_database.csv',delimiter=';', encoding='UTF-8')"
   ]
  },
  {
   "cell_type": "code",
   "execution_count": 108,
   "metadata": {},
   "outputs": [
    {
     "data": {
      "text/html": [
       "<div>\n",
       "<style scoped>\n",
       "    .dataframe tbody tr th:only-of-type {\n",
       "        vertical-align: middle;\n",
       "    }\n",
       "\n",
       "    .dataframe tbody tr th {\n",
       "        vertical-align: top;\n",
       "    }\n",
       "\n",
       "    .dataframe thead th {\n",
       "        text-align: right;\n",
       "    }\n",
       "</style>\n",
       "<table border=\"1\" class=\"dataframe\">\n",
       "  <thead>\n",
       "    <tr style=\"text-align: right;\">\n",
       "      <th></th>\n",
       "      <th>country</th>\n",
       "      <th>name</th>\n",
       "      <th>capacity_mw</th>\n",
       "      <th>latitude</th>\n",
       "      <th>longitude</th>\n",
       "      <th>primary_fuel</th>\n",
       "      <th>estimated_generation_gwh</th>\n",
       "    </tr>\n",
       "  </thead>\n",
       "  <tbody>\n",
       "    <tr>\n",
       "      <th>0</th>\n",
       "      <td>Afghanistan</td>\n",
       "      <td>Kajaki Hydroelectric Power Plant Afghanistan</td>\n",
       "      <td>33.00</td>\n",
       "      <td>32.3220</td>\n",
       "      <td>65.1190</td>\n",
       "      <td>Hydro</td>\n",
       "      <td>NaN</td>\n",
       "    </tr>\n",
       "    <tr>\n",
       "      <th>1</th>\n",
       "      <td>Afghanistan</td>\n",
       "      <td>Mahipar Hydroelectric Power Plant Afghanistan</td>\n",
       "      <td>66.00</td>\n",
       "      <td>34.5560</td>\n",
       "      <td>69.4787</td>\n",
       "      <td>Hydro</td>\n",
       "      <td>NaN</td>\n",
       "    </tr>\n",
       "    <tr>\n",
       "      <th>2</th>\n",
       "      <td>Afghanistan</td>\n",
       "      <td>Naghlu Dam Hydroelectric Power Plant Afghanistan</td>\n",
       "      <td>100.00</td>\n",
       "      <td>34.6410</td>\n",
       "      <td>69.7170</td>\n",
       "      <td>Hydro</td>\n",
       "      <td>NaN</td>\n",
       "    </tr>\n",
       "    <tr>\n",
       "      <th>3</th>\n",
       "      <td>Afghanistan</td>\n",
       "      <td>Nangarhar (Darunta) Hydroelectric Power Plant ...</td>\n",
       "      <td>11.55</td>\n",
       "      <td>34.4847</td>\n",
       "      <td>70.3633</td>\n",
       "      <td>Hydro</td>\n",
       "      <td>NaN</td>\n",
       "    </tr>\n",
       "    <tr>\n",
       "      <th>4</th>\n",
       "      <td>Afghanistan</td>\n",
       "      <td>Northwest Kabul Power Plant Afghanistan</td>\n",
       "      <td>42.00</td>\n",
       "      <td>34.5638</td>\n",
       "      <td>69.1134</td>\n",
       "      <td>Gas</td>\n",
       "      <td>NaN</td>\n",
       "    </tr>\n",
       "    <tr>\n",
       "      <th>...</th>\n",
       "      <td>...</td>\n",
       "      <td>...</td>\n",
       "      <td>...</td>\n",
       "      <td>...</td>\n",
       "      <td>...</td>\n",
       "      <td>...</td>\n",
       "      <td>...</td>\n",
       "    </tr>\n",
       "    <tr>\n",
       "      <th>29905</th>\n",
       "      <td>Zambia</td>\n",
       "      <td>Ndola</td>\n",
       "      <td>50.00</td>\n",
       "      <td>-12.9667</td>\n",
       "      <td>28.6333</td>\n",
       "      <td>Oil</td>\n",
       "      <td>120.872642</td>\n",
       "    </tr>\n",
       "    <tr>\n",
       "      <th>29906</th>\n",
       "      <td>Zambia</td>\n",
       "      <td>Nkana</td>\n",
       "      <td>20.00</td>\n",
       "      <td>-12.8167</td>\n",
       "      <td>28.2000</td>\n",
       "      <td>Oil</td>\n",
       "      <td>48.349057</td>\n",
       "    </tr>\n",
       "    <tr>\n",
       "      <th>29907</th>\n",
       "      <td>Zambia</td>\n",
       "      <td>Victoria Falls</td>\n",
       "      <td>108.00</td>\n",
       "      <td>-17.9167</td>\n",
       "      <td>25.8500</td>\n",
       "      <td>Hydro</td>\n",
       "      <td>702.100000</td>\n",
       "    </tr>\n",
       "    <tr>\n",
       "      <th>29908</th>\n",
       "      <td>Zimbabwe</td>\n",
       "      <td>Hwange Coal Power Plant Zimbabwe</td>\n",
       "      <td>920.00</td>\n",
       "      <td>-18.3835</td>\n",
       "      <td>26.4700</td>\n",
       "      <td>Coal</td>\n",
       "      <td>4397.000000</td>\n",
       "    </tr>\n",
       "    <tr>\n",
       "      <th>29909</th>\n",
       "      <td>Zimbabwe</td>\n",
       "      <td>Kariba Dam South Hydroelectric Power Station Z...</td>\n",
       "      <td>750.00</td>\n",
       "      <td>-16.5222</td>\n",
       "      <td>28.7619</td>\n",
       "      <td>Hydro</td>\n",
       "      <td>5431.000000</td>\n",
       "    </tr>\n",
       "  </tbody>\n",
       "</table>\n",
       "<p>29910 rows × 7 columns</p>\n",
       "</div>"
      ],
      "text/plain": [
       "           country                                               name  \\\n",
       "0      Afghanistan       Kajaki Hydroelectric Power Plant Afghanistan   \n",
       "1      Afghanistan      Mahipar Hydroelectric Power Plant Afghanistan   \n",
       "2      Afghanistan   Naghlu Dam Hydroelectric Power Plant Afghanistan   \n",
       "3      Afghanistan  Nangarhar (Darunta) Hydroelectric Power Plant ...   \n",
       "4      Afghanistan            Northwest Kabul Power Plant Afghanistan   \n",
       "...            ...                                                ...   \n",
       "29905       Zambia                                              Ndola   \n",
       "29906       Zambia                                              Nkana   \n",
       "29907       Zambia                                     Victoria Falls   \n",
       "29908     Zimbabwe                   Hwange Coal Power Plant Zimbabwe   \n",
       "29909     Zimbabwe  Kariba Dam South Hydroelectric Power Station Z...   \n",
       "\n",
       "       capacity_mw  latitude  longitude primary_fuel  estimated_generation_gwh  \n",
       "0            33.00   32.3220    65.1190        Hydro                       NaN  \n",
       "1            66.00   34.5560    69.4787        Hydro                       NaN  \n",
       "2           100.00   34.6410    69.7170        Hydro                       NaN  \n",
       "3            11.55   34.4847    70.3633        Hydro                       NaN  \n",
       "4            42.00   34.5638    69.1134          Gas                       NaN  \n",
       "...            ...       ...        ...          ...                       ...  \n",
       "29905        50.00  -12.9667    28.6333          Oil                120.872642  \n",
       "29906        20.00  -12.8167    28.2000          Oil                 48.349057  \n",
       "29907       108.00  -17.9167    25.8500        Hydro                702.100000  \n",
       "29908       920.00  -18.3835    26.4700         Coal               4397.000000  \n",
       "29909       750.00  -16.5222    28.7619        Hydro               5431.000000  \n",
       "\n",
       "[29910 rows x 7 columns]"
      ]
     },
     "execution_count": 108,
     "metadata": {},
     "output_type": "execute_result"
    }
   ],
   "source": [
    "df"
   ]
  },
  {
   "cell_type": "code",
   "execution_count": 109,
   "metadata": {},
   "outputs": [],
   "source": [
    "df = df.drop_duplicates(['country','name'])"
   ]
  },
  {
   "cell_type": "code",
   "execution_count": 110,
   "metadata": {},
   "outputs": [],
   "source": [
    "df = df.dropna()"
   ]
  },
  {
   "cell_type": "markdown",
   "metadata": {},
   "source": [
    "среднее значение"
   ]
  },
  {
   "cell_type": "code",
   "execution_count": 111,
   "metadata": {},
   "outputs": [
    {
     "data": {
      "text/plain": [
       "187.62003780215542"
      ]
     },
     "execution_count": 111,
     "metadata": {},
     "output_type": "execute_result"
    }
   ],
   "source": [
    "# мощности электростанции\n",
    "mean_capacity_mw = df['capacity_mw'].sum() / df['capacity_mw'].count()\n",
    "mean_capacity_mw"
   ]
  },
  {
   "cell_type": "code",
   "execution_count": 112,
   "metadata": {},
   "outputs": [
    {
     "data": {
      "text/plain": [
       "187.62003780215542"
      ]
     },
     "execution_count": 112,
     "metadata": {},
     "output_type": "execute_result"
    }
   ],
   "source": [
    "df['capacity_mw'].mean()"
   ]
  },
  {
   "cell_type": "code",
   "execution_count": 113,
   "metadata": {},
   "outputs": [
    {
     "data": {
      "text/plain": [
       "850.6071399525041"
      ]
     },
     "execution_count": 113,
     "metadata": {},
     "output_type": "execute_result"
    }
   ],
   "source": [
    "#выработка электричества\n",
    "mean_estimated_generation_gwh = df['estimated_generation_gwh'].sum() / df['estimated_generation_gwh'].count()\n",
    "mean_estimated_generation_gwh"
   ]
  },
  {
   "cell_type": "code",
   "execution_count": 114,
   "metadata": {},
   "outputs": [
    {
     "data": {
      "text/plain": [
       "850.6071399525041"
      ]
     },
     "execution_count": 114,
     "metadata": {},
     "output_type": "execute_result"
    }
   ],
   "source": [
    "df['estimated_generation_gwh'].mean()"
   ]
  },
  {
   "cell_type": "markdown",
   "metadata": {},
   "source": [
    "среднее квадратичное отклонение "
   ]
  },
  {
   "cell_type": "code",
   "execution_count": 115,
   "metadata": {},
   "outputs": [
    {
     "data": {
      "text/plain": [
       "552.6084625096779"
      ]
     },
     "execution_count": 115,
     "metadata": {},
     "output_type": "execute_result"
    }
   ],
   "source": [
    "#мощности электростанции\n",
    "capacity_mw_std = np.sqrt(((df['capacity_mw'] - df['capacity_mw'].mean())**2).sum() / df['capacity_mw'].count())\n",
    "capacity_mw_std"
   ]
  },
  {
   "cell_type": "code",
   "execution_count": 116,
   "metadata": {},
   "outputs": [
    {
     "data": {
      "text/plain": [
       "552.6084625096779"
      ]
     },
     "execution_count": 116,
     "metadata": {},
     "output_type": "execute_result"
    }
   ],
   "source": [
    "df['capacity_mw'].std(ddof=0)"
   ]
  },
  {
   "cell_type": "code",
   "execution_count": 117,
   "metadata": {},
   "outputs": [
    {
     "data": {
      "text/plain": [
       "4084.323902883603"
      ]
     },
     "execution_count": 117,
     "metadata": {},
     "output_type": "execute_result"
    }
   ],
   "source": [
    "#выработка электричества\n",
    "df['estimated_generation_gwh'].std(ddof=0)"
   ]
  },
  {
   "cell_type": "markdown",
   "metadata": {},
   "source": [
    "Рассчитаем несмещенную дисперсию"
   ]
  },
  {
   "cell_type": "code",
   "execution_count": 118,
   "metadata": {},
   "outputs": [
    {
     "data": {
      "text/plain": [
       "305390.2992218143"
      ]
     },
     "execution_count": 118,
     "metadata": {},
     "output_type": "execute_result"
    }
   ],
   "source": [
    "#мощности электростанции\n",
    "capacity_mw_variance2 = ((df['capacity_mw'] - df['capacity_mw'].mean())**2).sum() / (df['capacity_mw'].count() - 1)\n",
    "capacity_mw_variance2"
   ]
  },
  {
   "cell_type": "code",
   "execution_count": 119,
   "metadata": {},
   "outputs": [
    {
     "data": {
      "text/plain": [
       "305390.2992218143"
      ]
     },
     "execution_count": 119,
     "metadata": {},
     "output_type": "execute_result"
    }
   ],
   "source": [
    "df['capacity_mw'].var(ddof=1)"
   ]
  },
  {
   "cell_type": "code",
   "execution_count": 120,
   "metadata": {},
   "outputs": [
    {
     "data": {
      "text/plain": [
       "16682476.69961467"
      ]
     },
     "execution_count": 120,
     "metadata": {},
     "output_type": "execute_result"
    }
   ],
   "source": [
    "#выработка электричества\n",
    "df['estimated_generation_gwh'].var(ddof=1)"
   ]
  },
  {
   "cell_type": "markdown",
   "metadata": {},
   "source": [
    "Рассчитаем смещенную дисперсию"
   ]
  },
  {
   "cell_type": "code",
   "execution_count": 121,
   "metadata": {},
   "outputs": [
    {
     "data": {
      "text/plain": [
       "305376.1128373101"
      ]
     },
     "execution_count": 121,
     "metadata": {},
     "output_type": "execute_result"
    }
   ],
   "source": [
    "#мощности электростанции\n",
    "df['capacity_mw'].var(ddof=0)"
   ]
  },
  {
   "cell_type": "code",
   "execution_count": 122,
   "metadata": {},
   "outputs": [
    {
     "data": {
      "text/plain": [
       "16681701.743666345"
      ]
     },
     "execution_count": 122,
     "metadata": {},
     "output_type": "execute_result"
    }
   ],
   "source": [
    "#выработка электричества\n",
    "df['estimated_generation_gwh'].var(ddof=0)"
   ]
  },
  {
   "cell_type": "code",
   "execution_count": 123,
   "metadata": {},
   "outputs": [
    {
     "data": {
      "text/plain": [
       "(5.0, 19.5)"
      ]
     },
     "execution_count": 123,
     "metadata": {},
     "output_type": "execute_result"
    }
   ],
   "source": [
    "# мода и медиана(второй квартиль) мощности электростанции\n",
    "target_median = df['capacity_mw'].median()\n",
    "target_mode = df['capacity_mw'].mode()[0]\n",
    "\n",
    "target_mode, target_median"
   ]
  },
  {
   "cell_type": "code",
   "execution_count": 124,
   "metadata": {},
   "outputs": [
    {
     "data": {
      "text/plain": [
       "(149.98564434532332, 54.245544821610714)"
      ]
     },
     "execution_count": 124,
     "metadata": {},
     "output_type": "execute_result"
    }
   ],
   "source": [
    "# мода и медиана(второй квартиль) выработки электричества\n",
    "target_median = df['estimated_generation_gwh'].median()\n",
    "target_mode = df['estimated_generation_gwh'].mode()[0]\n",
    "\n",
    "target_mode, target_median"
   ]
  },
  {
   "cell_type": "code",
   "execution_count": 125,
   "metadata": {},
   "outputs": [
    {
     "data": {
      "text/plain": [
       "5.0"
      ]
     },
     "execution_count": 125,
     "metadata": {},
     "output_type": "execute_result"
    }
   ],
   "source": [
    "#первый квартиль мощности электростанции\n",
    "np.percentile(df.capacity_mw, 25)"
   ]
  },
  {
   "cell_type": "code",
   "execution_count": 126,
   "metadata": {},
   "outputs": [
    {
     "data": {
      "text/plain": [
       "10.117934005282574"
      ]
     },
     "execution_count": 126,
     "metadata": {},
     "output_type": "execute_result"
    }
   ],
   "source": [
    "#первый квартиль выработки электричества\n",
    "np.percentile(df.estimated_generation_gwh, 25)"
   ]
  },
  {
   "cell_type": "code",
   "execution_count": 127,
   "metadata": {},
   "outputs": [
    {
     "data": {
      "text/plain": [
       "94.2"
      ]
     },
     "execution_count": 127,
     "metadata": {},
     "output_type": "execute_result"
    }
   ],
   "source": [
    "#третий квартиль мощности электростанции\n",
    "np.percentile(df.capacity_mw, 75)"
   ]
  },
  {
   "cell_type": "code",
   "execution_count": 128,
   "metadata": {},
   "outputs": [
    {
     "data": {
      "text/plain": [
       "345.7477936533945"
      ]
     },
     "execution_count": 128,
     "metadata": {},
     "output_type": "execute_result"
    }
   ],
   "source": [
    "#третий квартиль выработки электричества\n",
    "np.percentile(df.estimated_generation_gwh, 75)"
   ]
  },
  {
   "cell_type": "markdown",
   "metadata": {},
   "source": [
    "визуализация при помощи гистограммы"
   ]
  },
  {
   "cell_type": "code",
   "execution_count": 129,
   "metadata": {},
   "outputs": [
    {
     "data": {
      "image/png": "[encoded data removed]",
      "text/plain": [
       "<Figure size 432x288 with 1 Axes>"
      ]
     },
     "metadata": {
      "needs_background": "light"
     },
     "output_type": "display_data"
    }
   ],
   "source": [
    "plt.hist(df['capacity_mw'], bins = 40)\n",
    "plt.title('Гистограмма мощность электростанций')\n",
    "plt.xlabel('мощность электростанции в гигаваттах')\n",
    "plt.ylabel('Количество')\n",
    "plt.show()"
   ]
  },
  {
   "cell_type": "code",
   "execution_count": 133,
   "metadata": {},
   "outputs": [
    {
     "data": {
      "image/png": "[encoded data removed]",
      "text/plain": [
       "<Figure size 432x288 with 1 Axes>"
      ]
     },
     "metadata": {
      "needs_background": "light"
     },
     "output_type": "display_data"
    }
   ],
   "source": [
    "boxplot  = df.boxplot(column = ['capacity_mw'])\n",
    "plt.title('Boxplot мощность электростанций')\n",
    "plt.xlabel('мощность электростанции в гигаваттах')\n",
    "plt.show()"
   ]
  },
  {
   "cell_type": "code",
   "execution_count": 134,
   "metadata": {},
   "outputs": [
    {
     "data": {
      "image/png": "[encoded data removed]",
      "text/plain": [
       "<Figure size 432x288 with 1 Axes>"
      ]
     },
     "metadata": {
      "needs_background": "light"
     },
     "output_type": "display_data"
    }
   ],
   "source": [
    "plt.hist(df['estimated_generation_gwh'], bins = 40)\n",
    "plt.title('Гистограмма прогнозируемая выработка электричества в гигаватт-часах в 2014 году')\n",
    "plt.xlabel('прогнозируемая выработка электричества в гигаватт-часах в 2014 году')\n",
    "plt.ylabel('Количество')\n",
    "plt.show()"
   ]
  },
  {
   "cell_type": "code",
   "execution_count": 135,
   "metadata": {},
   "outputs": [
    {
     "data": {
      "image/png": "[encoded data removed]",
      "text/plain": [
       "<Figure size 432x288 with 1 Axes>"
      ]
     },
     "metadata": {
      "needs_background": "light"
     },
     "output_type": "display_data"
    }
   ],
   "source": [
    "boxplot  = df.boxplot(column = ['estimated_generation_gwh'])\n",
    "plt.title('прогнозируемая выработка электричества в гигаватт-часах в 2014 году')\n",
    "plt.xlabel('прогнозируемая выработка электричества в гигаватт-часах в 2014 году')\n",
    "plt.show()"
   ]
  },
  {
   "cell_type": "code",
   "execution_count": null,
   "metadata": {},
   "outputs": [],
   "source": []
  }
 ],
 "metadata": {
  "kernelspec": {
   "display_name": "Python 3",
   "language": "python",
   "name": "python3"
  },
  "language_info": {
   "codemirror_mode": {
    "name": "ipython",
    "version": 3
   },
   "file_extension": ".py",
   "mimetype": "text/x-python",
   "name": "python",
   "nbconvert_exporter": "python",
   "pygments_lexer": "ipython3",
   "version": "3.8.2"
  }
 },
 "nbformat": 4,
 "nbformat_minor": 4
}
