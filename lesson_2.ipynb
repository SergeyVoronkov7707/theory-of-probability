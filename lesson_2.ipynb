{
 "cells": [
  {
   "cell_type": "markdown",
   "metadata": {},
   "source": [
    "Две игральные кости одновременно бросают два раза. \n",
    "Написать биноминальный закон распределения дискретной \n",
    "случайной величины X - числа выпадений чётного числа очков на двух игральных костях.\n",
    "\n",
    "Станок-автомат штампует детали. \n",
    "Вероятность того, что изготовленная деталь окажется \n",
    "бракованной, равна 0.01. Найти вероятность того, что среди \n",
    "200 деталей окажется ровно 4 бракованных.\n",
    "\n",
    "Магазин получил 1000 бутылок минеральной воды.\n",
    "Вероятность того, что при перевозке бутылка окажется \n",
    "разбитой равна 0.003. Найти вероятности \n",
    "того, что магазин получит:\n",
    "а) ровно две разбитые бутылки; \n",
    "б) менее двух разбитых бутылок; \n",
    "в) более двух разбитых бутылок; \n",
    "г) хоты бы одну разбитую бутылку.\n",
    "\n",
    "В магазин за одну минуту в среднем заходят 5 человек.\n",
    "Найдите вероятность того, что за 2 минуты в магазин зайдет не более 1 человека.\n",
    "\n",
    "Достоверно известно, что в тексте учебника по экономике содержатся \n",
    "опечатки: в среднем, одна на десять страниц. \n",
    "Пусть Х – число опечаток на одной странице. \n",
    "Определить закон распределения для Х. \n",
    "Найти вероятность, что на странице есть хотя бы одна опечатка."
   ]
  },
  {
   "cell_type": "code",
   "execution_count": 4,
   "metadata": {},
   "outputs": [],
   "source": [
    "import numpy as np\n",
    "from math import factorial\n",
    "import math"
   ]
  },
  {
   "cell_type": "markdown",
   "metadata": {},
   "source": [
    "Две игральные кости одновременно бросают два раза. Написать биноминальный закон распределения дискретной случайной величины X - числа выпадений чётного числа очков на двух игральных костях."
   ]
  },
  {
   "cell_type": "code",
   "execution_count": 21,
   "metadata": {},
   "outputs": [
    {
     "data": {
      "text/plain": [
       "2"
      ]
     },
     "execution_count": 21,
     "metadata": {},
     "output_type": "execute_result"
    }
   ],
   "source": [
    "# 3*3=9,6*6=36, p= 9/36=1/4 \n",
    "np.random.binomial(n=2, p=1/4)"
   ]
  },
  {
   "cell_type": "markdown",
   "metadata": {},
   "source": [
    "Станок-автомат штампует детали. Вероятность того, что изготовленная деталь окажется бракованной, равна 0.01. Найти вероятность того, что среди 200 деталей окажется ровно 4 бракованных."
   ]
  },
  {
   "cell_type": "code",
   "execution_count": 6,
   "metadata": {},
   "outputs": [
    {
     "data": {
      "text/plain": [
       "0.0902235221577418"
      ]
     },
     "execution_count": 6,
     "metadata": {},
     "output_type": "execute_result"
    }
   ],
   "source": [
    "# определять буду по Паусону\n",
    "#L-лямбда\n",
    "n=200\n",
    "p=0.01\n",
    "m=4\n",
    "#L= n*p= 200*0.01=2 \n",
    "L= 2\n",
    "res = (L**m*math.e**(-L))/factorial(m)\n",
    "res"
   ]
  },
  {
   "cell_type": "markdown",
   "metadata": {},
   "source": [
    "Магазин получил 1000 бутылок минеральной воды. Вероятность того, что при перевозке бутылка окажется разбитой равна 0.003. Найти вероятности того, что магазин получит: а) ровно две разбитые бутылки; б) менее двух разбитых бутылок; в) более двух разбитых бутылок; г) хоты бы одну разбитую бутылку."
   ]
  },
  {
   "cell_type": "code",
   "execution_count": 9,
   "metadata": {},
   "outputs": [
    {
     "data": {
      "text/plain": [
       "0.22404180765538778"
      ]
     },
     "execution_count": 9,
     "metadata": {},
     "output_type": "execute_result"
    }
   ],
   "source": [
    "# a)\n",
    "n=1000\n",
    "p=0.003\n",
    "m= 2\n",
    "#L= n*p= 1000*0.003=3\n",
    "L= 3\n",
    "res = (L**m*math.e**(-L))/factorial(m)\n",
    "res"
   ]
  },
  {
   "cell_type": "code",
   "execution_count": 15,
   "metadata": {},
   "outputs": [
    {
     "data": {
      "text/plain": [
       "0.04978706836786395"
      ]
     },
     "execution_count": 15,
     "metadata": {},
     "output_type": "execute_result"
    }
   ],
   "source": [
    "# б)\n",
    "n=1000\n",
    "p=0.003\n",
    "m = 0\n",
    "#L= n*p= 1000*0.003=3\n",
    "L= 3\n",
    "res = (L**m*math.e**(-L))/factorial(m)\n",
    "res"
   ]
  },
  {
   "cell_type": "code",
   "execution_count": 14,
   "metadata": {},
   "outputs": [
    {
     "data": {
      "text/plain": [
       "0.16803135574154082"
      ]
     },
     "execution_count": 14,
     "metadata": {},
     "output_type": "execute_result"
    }
   ],
   "source": [
    "# в)\n",
    "n=1000\n",
    "p=0.003\n",
    "m = 4\n",
    "#L= n*p= 1000*0.003=3\n",
    "L= 3\n",
    "res = (L**m*math.e**(-L))/factorial(m)\n",
    "res"
   ]
  },
  {
   "cell_type": "code",
   "execution_count": 16,
   "metadata": {},
   "outputs": [
    {
     "data": {
      "text/plain": [
       "0.14936120510359185"
      ]
     },
     "execution_count": 16,
     "metadata": {},
     "output_type": "execute_result"
    }
   ],
   "source": [
    "# г)\n",
    "n=1000\n",
    "p=0.003\n",
    "m = 1\n",
    "#L= n*p= 1000*0.003=3\n",
    "L= 3\n",
    "res = (L**m*math.e**(-L))/factorial(m)\n",
    "res"
   ]
  },
  {
   "cell_type": "markdown",
   "metadata": {},
   "source": [
    "В магазин за одну минуту в среднем заходят 5 человек. Найдите вероятность того, что за 2 минуты в магазин зайдет не более 1 человека."
   ]
  },
  {
   "cell_type": "code",
   "execution_count": 17,
   "metadata": {},
   "outputs": [
    {
     "data": {
      "text/plain": [
       "0.00045399929762484877"
      ]
     },
     "execution_count": 17,
     "metadata": {},
     "output_type": "execute_result"
    }
   ],
   "source": [
    "# L-лямбда\n",
    "#L = 5*2= 10\n",
    "L = 10\n",
    "m = 1\n",
    "res = (L**m*math.e**(-L))/factorial(m)\n",
    "res"
   ]
  },
  {
   "cell_type": "markdown",
   "metadata": {},
   "source": [
    "Достоверно известно, что в тексте учебника по экономике содержатся опечатки: в среднем, одна на десять страниц. Пусть Х – число опечаток на одной странице. Определить закон распределения для Х. Найти вероятность, что на странице есть хотя бы одна опечатка."
   ]
  },
  {
   "cell_type": "code",
   "execution_count": null,
   "metadata": {},
   "outputs": [],
   "source": [
    "#L- лямбда\n",
    "# L = 1/10 = 0,1\n",
    "# X = 0, 1, 2, ... n\n",
    "# по распределению Паусона вероятность равна:\n",
    "(L**n/factorial(n))*math.e**(-L)"
   ]
  }
 ],
 "metadata": {
  "kernelspec": {
   "display_name": "Python 3",
   "language": "python",
   "name": "python3"
  },
  "language_info": {
   "codemirror_mode": {
    "name": "ipython",
    "version": 3
   },
   "file_extension": ".py",
   "mimetype": "text/x-python",
   "name": "python",
   "nbconvert_exporter": "python",
   "pygments_lexer": "ipython3",
   "version": "3.8.2"
  }
 },
 "nbformat": 4,
 "nbformat_minor": 4
}
